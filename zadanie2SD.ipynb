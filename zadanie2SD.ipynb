{
 "cells": [
  {
   "cell_type": "markdown",
   "metadata": {},
   "source": [
    "<span style = \"width:950px; height:400px;display:inline-block;overflow:hidden;position:relative;\"><img src=\"http://www.thebluediamondgallery.com/typewriter/images/salary.jpg\" style=\"left: -100px;top:-500px;\" /></span>"
   ]
  },
  {
   "cell_type": "markdown",
   "metadata": {},
   "source": [
    "<h1> Przewidywanie przekroczenia progu dochodowego </h1><br>\n",
    "Cel zadania: przewidzenie które osoby z próbki testowej mają przypisaną decyzję 1 (która oznacza, że roczne zarobki przekroczyły pewien ustalony próg). Projekt będzie oceniany na podstawie miary accuracy."
   ]
  },
  {
   "cell_type": "code",
   "execution_count": 1,
   "metadata": {},
   "outputs": [],
   "source": [
    "import pandas as pd\n",
    "import numpy as np\n",
    "\n",
    "from sklearn.preprocessing import StandardScaler, LabelEncoder, OneHotEncoder\n",
    "from sklearn.model_selection import train_test_split, KFold, GridSearchCV\n",
    "from sklearn.metrics import classification_report, confusion_matrix, accuracy_score\n",
    "from sklearn.neighbors import KNeighborsClassifier\n",
    "from sklearn.tree import DecisionTreeClassifier\n",
    "from sklearn.ensemble import RandomForestClassifier\n",
    "\n",
    "import xgboost as xgb\n",
    "\n",
    "import matplotlib.pyplot as plt\n",
    "%matplotlib inline"
   ]
  },
  {
   "cell_type": "markdown",
   "metadata": {},
   "source": [
    "<h2>Ściągamy dane</h2> <br>\n",
    "Zbiór pochodzi  z zasobów Wydziału Matematyki, Informatyki i Mechaniki Uniwersytetu Warszawskiego. "
   ]
  },
  {
   "cell_type": "code",
   "execution_count": 2,
   "metadata": {},
   "outputs": [
    {
     "data": {
      "text/html": [
       "<div>\n",
       "<style scoped>\n",
       "    .dataframe tbody tr th:only-of-type {\n",
       "        vertical-align: middle;\n",
       "    }\n",
       "\n",
       "    .dataframe tbody tr th {\n",
       "        vertical-align: top;\n",
       "    }\n",
       "\n",
       "    .dataframe thead th {\n",
       "        text-align: right;\n",
       "    }\n",
       "</style>\n",
       "<table border=\"1\" class=\"dataframe\">\n",
       "  <thead>\n",
       "    <tr style=\"text-align: right;\">\n",
       "      <th></th>\n",
       "      <th>age</th>\n",
       "      <th>workclass</th>\n",
       "      <th>fnlwgt</th>\n",
       "      <th>education</th>\n",
       "      <th>education-num</th>\n",
       "      <th>marital-status</th>\n",
       "      <th>occupation</th>\n",
       "      <th>relationship</th>\n",
       "      <th>race</th>\n",
       "      <th>sex</th>\n",
       "      <th>capital-gain</th>\n",
       "      <th>capital-loss</th>\n",
       "      <th>hours-per-week</th>\n",
       "      <th>native-country</th>\n",
       "      <th>dec</th>\n",
       "    </tr>\n",
       "  </thead>\n",
       "  <tbody>\n",
       "    <tr>\n",
       "      <th>18195</th>\n",
       "      <td>42</td>\n",
       "      <td>C</td>\n",
       "      <td>169383</td>\n",
       "      <td>K</td>\n",
       "      <td>14</td>\n",
       "      <td>A</td>\n",
       "      <td>F</td>\n",
       "      <td>C</td>\n",
       "      <td>A</td>\n",
       "      <td>B</td>\n",
       "      <td>0</td>\n",
       "      <td>0</td>\n",
       "      <td>40</td>\n",
       "      <td>A</td>\n",
       "      <td>1</td>\n",
       "    </tr>\n",
       "    <tr>\n",
       "      <th>14695</th>\n",
       "      <td>38</td>\n",
       "      <td>A</td>\n",
       "      <td>354591</td>\n",
       "      <td>D</td>\n",
       "      <td>9</td>\n",
       "      <td>C</td>\n",
       "      <td>C</td>\n",
       "      <td>F</td>\n",
       "      <td>E</td>\n",
       "      <td>A</td>\n",
       "      <td>114</td>\n",
       "      <td>0</td>\n",
       "      <td>38</td>\n",
       "      <td>A</td>\n",
       "      <td>0</td>\n",
       "    </tr>\n",
       "    <tr>\n",
       "      <th>5407</th>\n",
       "      <td>38</td>\n",
       "      <td>C</td>\n",
       "      <td>284166</td>\n",
       "      <td>E</td>\n",
       "      <td>15</td>\n",
       "      <td>C</td>\n",
       "      <td>F</td>\n",
       "      <td>D</td>\n",
       "      <td>A</td>\n",
       "      <td>B</td>\n",
       "      <td>0</td>\n",
       "      <td>0</td>\n",
       "      <td>50</td>\n",
       "      <td>A</td>\n",
       "      <td>0</td>\n",
       "    </tr>\n",
       "    <tr>\n",
       "      <th>15332</th>\n",
       "      <td>29</td>\n",
       "      <td>C</td>\n",
       "      <td>358124</td>\n",
       "      <td>D</td>\n",
       "      <td>9</td>\n",
       "      <td>C</td>\n",
       "      <td>C</td>\n",
       "      <td>E</td>\n",
       "      <td>E</td>\n",
       "      <td>A</td>\n",
       "      <td>0</td>\n",
       "      <td>0</td>\n",
       "      <td>52</td>\n",
       "      <td>A</td>\n",
       "      <td>0</td>\n",
       "    </tr>\n",
       "    <tr>\n",
       "      <th>10508</th>\n",
       "      <td>28</td>\n",
       "      <td>E</td>\n",
       "      <td>299249</td>\n",
       "      <td>D</td>\n",
       "      <td>9</td>\n",
       "      <td>B</td>\n",
       "      <td>M</td>\n",
       "      <td>D</td>\n",
       "      <td>A</td>\n",
       "      <td>A</td>\n",
       "      <td>0</td>\n",
       "      <td>0</td>\n",
       "      <td>40</td>\n",
       "      <td>A</td>\n",
       "      <td>0</td>\n",
       "    </tr>\n",
       "  </tbody>\n",
       "</table>\n",
       "</div>"
      ],
      "text/plain": [
       "       age workclass  fnlwgt education  education-num marital-status  \\\n",
       "18195   42         C  169383         K             14              A   \n",
       "14695   38         A  354591         D              9              C   \n",
       "5407    38         C  284166         E             15              C   \n",
       "15332   29         C  358124         D              9              C   \n",
       "10508   28         E  299249         D              9              B   \n",
       "\n",
       "      occupation relationship race sex  capital-gain  capital-loss  \\\n",
       "18195          F            C    A   B             0             0   \n",
       "14695          C            F    E   A           114             0   \n",
       "5407           F            D    A   B             0             0   \n",
       "15332          C            E    E   A             0             0   \n",
       "10508          M            D    A   A             0             0   \n",
       "\n",
       "       hours-per-week native-country  dec  \n",
       "18195              40              A    1  \n",
       "14695              38              A    0  \n",
       "5407               50              A    0  \n",
       "15332              52              A    0  \n",
       "10508              40              A    0  "
      ]
     },
     "execution_count": 2,
     "metadata": {},
     "output_type": "execute_result"
    }
   ],
   "source": [
    "DATA_TRAIN = pd.read_csv('https://www.mimuw.edu.pl/~wswieb/proj1/z2/train.csv')\n",
    "DATA_TEST = pd.read_csv('https://www.mimuw.edu.pl/~wswieb/proj1/z2/test.csv')\n",
    "DATA_TRAIN.sample(5)"
   ]
  },
  {
   "cell_type": "markdown",
   "metadata": {},
   "source": [
    "<h2> Patrzymy na liczbę rekordów i stosunek liczby zmiennych do rekordów </h2><br> Zarówno zbyt mało jak i zbyt dużo kolumn w stosunku do wierszy może zaszkodzic naszemu modelowi."
   ]
  },
  {
   "cell_type": "code",
   "execution_count": 3,
   "metadata": {},
   "outputs": [
    {
     "data": {
      "text/plain": [
       "(32562, 15)"
      ]
     },
     "execution_count": 3,
     "metadata": {},
     "output_type": "execute_result"
    }
   ],
   "source": [
    "DATA_TRAIN.shape"
   ]
  },
  {
   "cell_type": "markdown",
   "metadata": {},
   "source": [
    "<h2> Patrzymy na podstawowe informacje oraz statystki opisowe dotyczące naszych zmiennych </h2> <br>\n",
    "Zauważmy, że nasz zmienne cechują się różnym zakresem oraz zmiennością. Dobrym pomysłem byłaby więc ich standaryzacja. "
   ]
  },
  {
   "cell_type": "code",
   "execution_count": 4,
   "metadata": {},
   "outputs": [
    {
     "data": {
      "text/html": [
       "<div>\n",
       "<style scoped>\n",
       "    .dataframe tbody tr th:only-of-type {\n",
       "        vertical-align: middle;\n",
       "    }\n",
       "\n",
       "    .dataframe tbody tr th {\n",
       "        vertical-align: top;\n",
       "    }\n",
       "\n",
       "    .dataframe thead th {\n",
       "        text-align: right;\n",
       "    }\n",
       "</style>\n",
       "<table border=\"1\" class=\"dataframe\">\n",
       "  <thead>\n",
       "    <tr style=\"text-align: right;\">\n",
       "      <th></th>\n",
       "      <th>age</th>\n",
       "      <th>fnlwgt</th>\n",
       "      <th>education-num</th>\n",
       "      <th>capital-gain</th>\n",
       "      <th>capital-loss</th>\n",
       "      <th>hours-per-week</th>\n",
       "      <th>dec</th>\n",
       "    </tr>\n",
       "  </thead>\n",
       "  <tbody>\n",
       "    <tr>\n",
       "      <th>count</th>\n",
       "      <td>32562.000000</td>\n",
       "      <td>3.256200e+04</td>\n",
       "      <td>32562.000000</td>\n",
       "      <td>32562.000000</td>\n",
       "      <td>32562.000000</td>\n",
       "      <td>32562.000000</td>\n",
       "      <td>32562.000000</td>\n",
       "    </tr>\n",
       "    <tr>\n",
       "      <th>mean</th>\n",
       "      <td>38.629353</td>\n",
       "      <td>1.899501e+05</td>\n",
       "      <td>10.066366</td>\n",
       "      <td>1084.449911</td>\n",
       "      <td>83.873257</td>\n",
       "      <td>40.407192</td>\n",
       "      <td>0.236779</td>\n",
       "    </tr>\n",
       "    <tr>\n",
       "      <th>std</th>\n",
       "      <td>13.723775</td>\n",
       "      <td>1.063772e+05</td>\n",
       "      <td>2.580824</td>\n",
       "      <td>7495.720474</td>\n",
       "      <td>395.966714</td>\n",
       "      <td>12.406439</td>\n",
       "      <td>0.425112</td>\n",
       "    </tr>\n",
       "    <tr>\n",
       "      <th>min</th>\n",
       "      <td>17.000000</td>\n",
       "      <td>1.228500e+04</td>\n",
       "      <td>1.000000</td>\n",
       "      <td>0.000000</td>\n",
       "      <td>0.000000</td>\n",
       "      <td>1.000000</td>\n",
       "      <td>0.000000</td>\n",
       "    </tr>\n",
       "    <tr>\n",
       "      <th>25%</th>\n",
       "      <td>28.000000</td>\n",
       "      <td>1.176060e+05</td>\n",
       "      <td>9.000000</td>\n",
       "      <td>0.000000</td>\n",
       "      <td>0.000000</td>\n",
       "      <td>40.000000</td>\n",
       "      <td>0.000000</td>\n",
       "    </tr>\n",
       "    <tr>\n",
       "      <th>50%</th>\n",
       "      <td>37.000000</td>\n",
       "      <td>1.783220e+05</td>\n",
       "      <td>10.000000</td>\n",
       "      <td>0.000000</td>\n",
       "      <td>0.000000</td>\n",
       "      <td>40.000000</td>\n",
       "      <td>0.000000</td>\n",
       "    </tr>\n",
       "    <tr>\n",
       "      <th>75%</th>\n",
       "      <td>48.000000</td>\n",
       "      <td>2.375425e+05</td>\n",
       "      <td>12.000000</td>\n",
       "      <td>0.000000</td>\n",
       "      <td>0.000000</td>\n",
       "      <td>45.000000</td>\n",
       "      <td>0.000000</td>\n",
       "    </tr>\n",
       "    <tr>\n",
       "      <th>max</th>\n",
       "      <td>90.000000</td>\n",
       "      <td>1.490400e+06</td>\n",
       "      <td>16.000000</td>\n",
       "      <td>99999.000000</td>\n",
       "      <td>4356.000000</td>\n",
       "      <td>99.000000</td>\n",
       "      <td>1.000000</td>\n",
       "    </tr>\n",
       "  </tbody>\n",
       "</table>\n",
       "</div>"
      ],
      "text/plain": [
       "                age        fnlwgt  education-num  capital-gain  capital-loss  \\\n",
       "count  32562.000000  3.256200e+04   32562.000000  32562.000000  32562.000000   \n",
       "mean      38.629353  1.899501e+05      10.066366   1084.449911     83.873257   \n",
       "std       13.723775  1.063772e+05       2.580824   7495.720474    395.966714   \n",
       "min       17.000000  1.228500e+04       1.000000      0.000000      0.000000   \n",
       "25%       28.000000  1.176060e+05       9.000000      0.000000      0.000000   \n",
       "50%       37.000000  1.783220e+05      10.000000      0.000000      0.000000   \n",
       "75%       48.000000  2.375425e+05      12.000000      0.000000      0.000000   \n",
       "max       90.000000  1.490400e+06      16.000000  99999.000000   4356.000000   \n",
       "\n",
       "       hours-per-week           dec  \n",
       "count    32562.000000  32562.000000  \n",
       "mean        40.407192      0.236779  \n",
       "std         12.406439      0.425112  \n",
       "min          1.000000      0.000000  \n",
       "25%         40.000000      0.000000  \n",
       "50%         40.000000      0.000000  \n",
       "75%         45.000000      0.000000  \n",
       "max         99.000000      1.000000  "
      ]
     },
     "execution_count": 4,
     "metadata": {},
     "output_type": "execute_result"
    }
   ],
   "source": [
    "DATA_TRAIN.describe()"
   ]
  },
  {
   "cell_type": "markdown",
   "metadata": {},
   "source": [
    "<h2>Patrzymy czy nasza kolumna decyzyjna jest zbalansowana </h2> <br> \n",
    "Informacja ta może nam się to przydać np przy wyborze progu odcięcia, jak również wyboru miary oceny jakości modelu. <br>\n",
    "Ponieważ jednym z założeń projektu jest maksymalizacja miary accuracy, nie będziemy stosować innych metryk (F1-score, precision, recall etc.). <br> \n",
    "Odsetek pozytywnej oraz negatywnej decyzji wynosi 76,4% oraz 23,6% odpowiednio. Nie występuje problem skrajnego niezbalansowania danych."
   ]
  },
  {
   "cell_type": "code",
   "execution_count": 5,
   "metadata": {},
   "outputs": [
    {
     "data": {
      "text/plain": [
       "0    24852\n",
       "1     7710\n",
       "Name: dec, dtype: int64"
      ]
     },
     "execution_count": 5,
     "metadata": {},
     "output_type": "execute_result"
    }
   ],
   "source": [
    "DATA_TRAIN['dec'].value_counts()"
   ]
  },
  {
   "cell_type": "markdown",
   "metadata": {},
   "source": [
    "<h2> Patrzymy na braki w danych </h2> <br> Przeanalizujmy w jakich ilościach, kolumnach oraz z jakimi typami zmiennych występują, aby wymyśleć odpowiednią strategię ich imputacji. <br> \n",
    "Widzimy, że braki występują tylko w trzech kolumnach, wszystkie z tych kolumn są zmiennymi kategorycznymi. Braki danych występują  tam równie często jak inne kategorie, potraktujemy je więc jak jeszcze jedną kategorie. "
   ]
  },
  {
   "cell_type": "code",
   "execution_count": 6,
   "metadata": {},
   "outputs": [
    {
     "name": "stdout",
     "output_type": "stream",
     "text": [
      "age\n",
      "36    922\n",
      "33    918\n",
      "35    905\n",
      "23    879\n",
      "31    877\n",
      "37    861\n",
      "32    852\n",
      "28    849\n",
      "30    843\n",
      "34    840\n",
      "38    840\n",
      "29    827\n",
      "24    825\n",
      "39    820\n",
      "41    816\n",
      "27    802\n",
      "22    800\n",
      "40    798\n",
      "42    791\n",
      "25    781\n",
      "26    753\n",
      "20    753\n",
      "45    739\n",
      "21    729\n",
      "43    720\n",
      "47    711\n",
      "46    701\n",
      "19    699\n",
      "44    677\n",
      "48    591\n",
      "     ... \n",
      "61    277\n",
      "62    260\n",
      "64    237\n",
      "63    232\n",
      "65    171\n",
      "67    158\n",
      "66    157\n",
      "68    133\n",
      "69     99\n",
      "72     84\n",
      "70     84\n",
      "71     82\n",
      "73     78\n",
      "74     55\n",
      "75     49\n",
      "76     45\n",
      "90     35\n",
      "77     33\n",
      "80     27\n",
      "81     26\n",
      "78     21\n",
      "79     21\n",
      "82     10\n",
      "84      9\n",
      "83      7\n",
      "88      4\n",
      "85      3\n",
      "87      3\n",
      "89      2\n",
      "86      1\n",
      "Name: age, Length: 74, dtype: int64\n",
      "workclass\n",
      "C    22506\n",
      "B     2613\n",
      "E     2120\n",
      "?     1883\n",
      "A     1352\n",
      "F     1107\n",
      "D      963\n",
      "G       15\n",
      "H        3\n",
      "Name: workclass, dtype: int64\n",
      "fnlwgt\n",
      "126569    15\n",
      "125892    14\n",
      "186934    13\n",
      "126675    13\n",
      "203488    13\n",
      "99185     13\n",
      "190290    12\n",
      "174789    12\n",
      "155489    12\n",
      "120277    11\n",
      "136986    11\n",
      "113364    11\n",
      "123429    11\n",
      "164190    11\n",
      "107302    11\n",
      "144778    10\n",
      "97723     10\n",
      "117963    10\n",
      "188246    10\n",
      "163665    10\n",
      "214542    10\n",
      "108140    10\n",
      "119793    10\n",
      "111483    10\n",
      "123011    10\n",
      "148995    10\n",
      "218490    10\n",
      "108293     9\n",
      "193882     9\n",
      "144949     9\n",
      "          ..\n",
      "366219     1\n",
      "182070     1\n",
      "156513     1\n",
      "116369     1\n",
      "212064     1\n",
      "89698      1\n",
      "146103     1\n",
      "134808     1\n",
      "142158     1\n",
      "203735     1\n",
      "202395     1\n",
      "140957     1\n",
      "259719     1\n",
      "222853     1\n",
      "120451     1\n",
      "109457     1\n",
      "447488     1\n",
      "341631     1\n",
      "28929      1\n",
      "204410     1\n",
      "194167     1\n",
      "266828     1\n",
      "73134      1\n",
      "249456     1\n",
      "167948     1\n",
      "110188     1\n",
      "462440     1\n",
      "63079      1\n",
      "349795     1\n",
      "47085      1\n",
      "Name: fnlwgt, Length: 21736, dtype: int64\n",
      "education\n",
      "D    10605\n",
      "B     7160\n",
      "A     5298\n",
      "K     1756\n",
      "G     1413\n",
      "M     1316\n",
      "C     1204\n",
      "F     1067\n",
      "I      653\n",
      "E      570\n",
      "H      497\n",
      "J      439\n",
      "N      350\n",
      "L      174\n",
      "O       60\n",
      "Name: education, dtype: int64\n",
      "education-num\n",
      "9     10605\n",
      "10     7160\n",
      "13     5298\n",
      "14     1756\n",
      "11     1413\n",
      "7      1204\n",
      "12     1067\n",
      "6       917\n",
      "4       653\n",
      "15      570\n",
      "5       497\n",
      "8       439\n",
      "16      399\n",
      "3       350\n",
      "2       174\n",
      "1        60\n",
      "Name: education-num, dtype: int64\n",
      "marital-status\n",
      "A    14944\n",
      "C    10772\n",
      "B     4407\n",
      "E      996\n",
      "D      991\n",
      "F      426\n",
      "G       26\n",
      "Name: marital-status, dtype: int64\n",
      "occupation\n",
      "F    4189\n",
      "B    4091\n",
      "E    3983\n",
      "I    3699\n",
      "D    3696\n",
      "C    3256\n",
      "H    2000\n",
      "?    1886\n",
      "K    1585\n",
      "G    1356\n",
      "J    1000\n",
      "A     991\n",
      "M     656\n",
      "L     166\n",
      "N       8\n",
      "Name: occupation, dtype: int64\n",
      "relationship\n",
      "C    13147\n",
      "D     8350\n",
      "B     5081\n",
      "F     3404\n",
      "A     1571\n",
      "E     1009\n",
      "Name: relationship, dtype: int64\n",
      "race\n",
      "A    27868\n",
      "E     3099\n",
      "B     1014\n",
      "C      312\n",
      "D      269\n",
      "Name: race, dtype: int64\n",
      "sex\n",
      "B    21721\n",
      "A    10841\n",
      "Name: sex, dtype: int64\n",
      "capital-gain\n",
      "0        29863\n",
      "15024      336\n",
      "7688       272\n",
      "7298       240\n",
      "99999      165\n",
      "3103        96\n",
      "5178        95\n",
      "5013        80\n",
      "4386        74\n",
      "8614        58\n",
      "2174        57\n",
      "3325        55\n",
      "10520       38\n",
      "27828       38\n",
      "20051       36\n",
      "4064        36\n",
      "6849        35\n",
      "3137        34\n",
      "4650        33\n",
      "594         32\n",
      "2829        30\n",
      "14084       30\n",
      "3908        29\n",
      "1055        29\n",
      "13550       28\n",
      "14344       28\n",
      "4787        24\n",
      "2885        24\n",
      "4101        23\n",
      "9386        23\n",
      "         ...  \n",
      "2036         4\n",
      "2228         4\n",
      "2538         4\n",
      "2346         4\n",
      "25124        3\n",
      "401          3\n",
      "9562         3\n",
      "1424         3\n",
      "2936         3\n",
      "2062         3\n",
      "3432         3\n",
      "4687         3\n",
      "41310        3\n",
      "7896         3\n",
      "2961         3\n",
      "1173         3\n",
      "2414         3\n",
      "2050         3\n",
      "6360         2\n",
      "2009         2\n",
      "4931         2\n",
      "1455         2\n",
      "34095        2\n",
      "7978         1\n",
      "2387         1\n",
      "2993         1\n",
      "18481        1\n",
      "1731         1\n",
      "6612         1\n",
      "7262         1\n",
      "Name: capital-gain, Length: 117, dtype: int64\n",
      "capital-loss\n",
      "0       31107\n",
      "1902      193\n",
      "1977      153\n",
      "1887      153\n",
      "2415       51\n",
      "1848       45\n",
      "1485       43\n",
      "1876       39\n",
      "1740       39\n",
      "1602       39\n",
      "1672       38\n",
      "1590       35\n",
      "2258       30\n",
      "1741       29\n",
      "1408       25\n",
      "1564       24\n",
      "1719       24\n",
      "1980       22\n",
      "2002       21\n",
      "2051       21\n",
      "2377       20\n",
      "1669       19\n",
      "2001       19\n",
      "1974       18\n",
      "1579       18\n",
      "1721       16\n",
      "2205       14\n",
      "2339       14\n",
      "2179       13\n",
      "1628       13\n",
      "        ...  \n",
      "3770        3\n",
      "3004        3\n",
      "2267        3\n",
      "4356        3\n",
      "1816        3\n",
      "653         3\n",
      "2238        3\n",
      "323         2\n",
      "3900        2\n",
      "3683        2\n",
      "1138        2\n",
      "2547        2\n",
      "2467        2\n",
      "1735        2\n",
      "2163        2\n",
      "2282        2\n",
      "1510        2\n",
      "1944        2\n",
      "2080        1\n",
      "2465        1\n",
      "1421        1\n",
      "974         1\n",
      "2472        1\n",
      "1755        1\n",
      "155         1\n",
      "810         1\n",
      "2489        1\n",
      "2754        1\n",
      "1870        1\n",
      "1911        1\n",
      "Name: capital-loss, Length: 94, dtype: int64\n",
      "hours-per-week\n",
      "40    15197\n",
      "50     2849\n",
      "45     1802\n",
      "60     1419\n",
      "35     1296\n",
      "20     1238\n",
      "30     1146\n",
      "55      693\n",
      "25      640\n",
      "48      514\n",
      "38      475\n",
      "15      420\n",
      "10      296\n",
      "32      285\n",
      "70      281\n",
      "65      244\n",
      "24      233\n",
      "36      222\n",
      "42      217\n",
      "44      211\n",
      "16      206\n",
      "37      168\n",
      "12      163\n",
      "8       151\n",
      "52      148\n",
      "80      143\n",
      "43      140\n",
      "99       91\n",
      "56       90\n",
      "28       88\n",
      "      ...  \n",
      "51       12\n",
      "29       11\n",
      "68       10\n",
      "98       10\n",
      "31        9\n",
      "63        9\n",
      "19        9\n",
      "85        8\n",
      "78        6\n",
      "59        6\n",
      "96        6\n",
      "77        6\n",
      "86        4\n",
      "88        4\n",
      "81        3\n",
      "73        3\n",
      "67        3\n",
      "61        3\n",
      "97        2\n",
      "89        2\n",
      "76        2\n",
      "74        2\n",
      "95        2\n",
      "87        1\n",
      "79        1\n",
      "94        1\n",
      "92        1\n",
      "82        1\n",
      "69        1\n",
      "91        1\n",
      "Name: hours-per-week, Length: 96, dtype: int64\n",
      "native-country\n",
      "A     29196\n",
      "U       659\n",
      "?       559\n",
      "P       199\n",
      "F       139\n",
      "D       130\n",
      "E       129\n",
      "AK      109\n",
      "M       102\n",
      "H       100\n",
      "L        85\n",
      "C        84\n",
      "K        80\n",
      "Q        68\n",
      "S        67\n",
      "Y        64\n",
      "I        61\n",
      "AD       60\n",
      "R        59\n",
      "AF       59\n",
      "T        55\n",
      "AC       51\n",
      "V        46\n",
      "N        38\n",
      "AG       36\n",
      "J        33\n",
      "AB       33\n",
      "AA       28\n",
      "AM       27\n",
      "X        25\n",
      "W        22\n",
      "AI       19\n",
      "B        19\n",
      "Z        17\n",
      "G        17\n",
      "AN       17\n",
      "AL       17\n",
      "O        15\n",
      "AJ       15\n",
      "AE       12\n",
      "AH       10\n",
      "AO        1\n",
      "Name: native-country, dtype: int64\n",
      "dec\n",
      "0    24852\n",
      "1     7710\n",
      "Name: dec, dtype: int64\n"
     ]
    }
   ],
   "source": [
    "for x in DATA_TRAIN.columns:\n",
    "    print(x)\n",
    "    print( DATA_TRAIN[x].value_counts())"
   ]
  },
  {
   "cell_type": "markdown",
   "metadata": {},
   "source": [
    "<h2> Izolujemy zmienną celu </h2>"
   ]
  },
  {
   "cell_type": "code",
   "execution_count": 7,
   "metadata": {},
   "outputs": [],
   "source": [
    "DEC = DATA_TRAIN['dec']\n",
    "del DATA_TRAIN['dec']"
   ]
  },
  {
   "cell_type": "markdown",
   "metadata": {},
   "source": [
    "<h2>Fragment ten zawiera algorytm inżynierii cech, który ma na celu utworzenie dodatkowych zmiennych do modelu <br> </h2>\n",
    "Ponieważ w danych mamy dużo zmiennych kategorycznych, z których niektóre kategorie występują bardzo rzadko (np. tylko 3 razy), spróbujemy wybrać z każdej kolumny ze zmiennymi kategorycznymi 3 kategorie, która najbardziej różnicują nasz zbiór, pozostałe kategorie przekształcimy w jedną kategorie. Posłużymy się w tym celu płytkim drzewem decyzyjnym (o 3 wierzchołkach). Każdą kolumne ze zmiennymi kategorycznymi przepuścimy przez drzewo decyzyjne, a następnie sprawdzimy które z kategorii zostały użyte do decyzji. Otrzymane kategorie zakodujemy jako zmienne binarne. "
   ]
  },
  {
   "cell_type": "code",
   "execution_count": 8,
   "metadata": {},
   "outputs": [],
   "source": [
    "clf5 = DecisionTreeClassifier(max_depth=3)"
   ]
  },
  {
   "cell_type": "code",
   "execution_count": 9,
   "metadata": {},
   "outputs": [],
   "source": [
    "le = LabelEncoder()"
   ]
  },
  {
   "cell_type": "code",
   "execution_count": 10,
   "metadata": {},
   "outputs": [],
   "source": [
    "x_train, x_test, y_train, y_test = train_test_split(DATA_TRAIN, DEC, test_size=0.1, random_state=0)\n",
    "important_features = {}\n",
    "features_to_save = {}\n",
    "to_drop = []\n",
    "for x in x_train.columns:\n",
    "    best = []\n",
    "    if x not in ['age', 'fnlwgt', 'education-num', 'capital-gain', 'capital-loss','hours-per-week']:\n",
    "        to_drop.append(x)\n",
    "        DATA_TRAIN1 = DATA_TRAIN[x]\n",
    "        le = LabelEncoder()\n",
    "        class_vector = le.fit_transform(DATA_TRAIN1);\n",
    "        ohe = OneHotEncoder(sparse=False, categories='auto')\n",
    "        one_hot = ohe.fit_transform(class_vector.reshape(len(class_vector), 1));\n",
    "        DATA_TRAIN1 =  one_hot\n",
    "        x_train1, x_test1, y_train, y_test = train_test_split(DATA_TRAIN1, DEC, test_size=0.1, random_state=0)\n",
    "        clf5.fit(x_train1, y_train)\n",
    "        clf_result = clf5.predict(x_test1)\n",
    "        clf_accuracy = accuracy_score(y_test, clf_result)\n",
    "        my_dict = dict(zip(le.classes_, range(len(le.classes_))))\n",
    "        features_to_save[x] = clf5.feature_importances_\n",
    "        for i in range(len(clf5.feature_importances_)):\n",
    "            if clf5.feature_importances_[i] != 0:\n",
    "                DATA_TRAIN[x + '_' + str(i)] = one_hot[:, i]   \n",
    "                for n in my_dict: \n",
    "                    if i == my_dict[n]:\n",
    "                        best.append(n)\n",
    "        important_features[x] = best\n"
   ]
  },
  {
   "cell_type": "code",
   "execution_count": 11,
   "metadata": {},
   "outputs": [
    {
     "data": {
      "text/html": [
       "<div>\n",
       "<style scoped>\n",
       "    .dataframe tbody tr th:only-of-type {\n",
       "        vertical-align: middle;\n",
       "    }\n",
       "\n",
       "    .dataframe tbody tr th {\n",
       "        vertical-align: top;\n",
       "    }\n",
       "\n",
       "    .dataframe thead th {\n",
       "        text-align: right;\n",
       "    }\n",
       "</style>\n",
       "<table border=\"1\" class=\"dataframe\">\n",
       "  <thead>\n",
       "    <tr style=\"text-align: right;\">\n",
       "      <th></th>\n",
       "      <th>age</th>\n",
       "      <th>workclass</th>\n",
       "      <th>fnlwgt</th>\n",
       "      <th>education</th>\n",
       "      <th>education-num</th>\n",
       "      <th>marital-status</th>\n",
       "      <th>occupation</th>\n",
       "      <th>relationship</th>\n",
       "      <th>race</th>\n",
       "      <th>sex</th>\n",
       "      <th>...</th>\n",
       "      <th>relationship_0</th>\n",
       "      <th>relationship_2</th>\n",
       "      <th>relationship_3</th>\n",
       "      <th>race_2</th>\n",
       "      <th>race_3</th>\n",
       "      <th>race_4</th>\n",
       "      <th>sex_1</th>\n",
       "      <th>native-country_7</th>\n",
       "      <th>native-country_23</th>\n",
       "      <th>native-country_36</th>\n",
       "    </tr>\n",
       "  </thead>\n",
       "  <tbody>\n",
       "    <tr>\n",
       "      <th>20876</th>\n",
       "      <td>19</td>\n",
       "      <td>?</td>\n",
       "      <td>48393</td>\n",
       "      <td>B</td>\n",
       "      <td>10</td>\n",
       "      <td>C</td>\n",
       "      <td>?</td>\n",
       "      <td>B</td>\n",
       "      <td>A</td>\n",
       "      <td>B</td>\n",
       "      <td>...</td>\n",
       "      <td>0.0</td>\n",
       "      <td>0.0</td>\n",
       "      <td>0.0</td>\n",
       "      <td>0.0</td>\n",
       "      <td>0.0</td>\n",
       "      <td>0.0</td>\n",
       "      <td>1.0</td>\n",
       "      <td>0.0</td>\n",
       "      <td>0.0</td>\n",
       "      <td>0.0</td>\n",
       "    </tr>\n",
       "    <tr>\n",
       "      <th>17792</th>\n",
       "      <td>38</td>\n",
       "      <td>C</td>\n",
       "      <td>136931</td>\n",
       "      <td>F</td>\n",
       "      <td>12</td>\n",
       "      <td>C</td>\n",
       "      <td>I</td>\n",
       "      <td>D</td>\n",
       "      <td>B</td>\n",
       "      <td>A</td>\n",
       "      <td>...</td>\n",
       "      <td>0.0</td>\n",
       "      <td>0.0</td>\n",
       "      <td>1.0</td>\n",
       "      <td>0.0</td>\n",
       "      <td>0.0</td>\n",
       "      <td>0.0</td>\n",
       "      <td>0.0</td>\n",
       "      <td>0.0</td>\n",
       "      <td>0.0</td>\n",
       "      <td>0.0</td>\n",
       "    </tr>\n",
       "    <tr>\n",
       "      <th>27113</th>\n",
       "      <td>44</td>\n",
       "      <td>C</td>\n",
       "      <td>230684</td>\n",
       "      <td>A</td>\n",
       "      <td>13</td>\n",
       "      <td>A</td>\n",
       "      <td>E</td>\n",
       "      <td>C</td>\n",
       "      <td>A</td>\n",
       "      <td>B</td>\n",
       "      <td>...</td>\n",
       "      <td>0.0</td>\n",
       "      <td>1.0</td>\n",
       "      <td>0.0</td>\n",
       "      <td>0.0</td>\n",
       "      <td>0.0</td>\n",
       "      <td>0.0</td>\n",
       "      <td>1.0</td>\n",
       "      <td>0.0</td>\n",
       "      <td>0.0</td>\n",
       "      <td>0.0</td>\n",
       "    </tr>\n",
       "    <tr>\n",
       "      <th>30243</th>\n",
       "      <td>33</td>\n",
       "      <td>C</td>\n",
       "      <td>178615</td>\n",
       "      <td>F</td>\n",
       "      <td>12</td>\n",
       "      <td>A</td>\n",
       "      <td>B</td>\n",
       "      <td>C</td>\n",
       "      <td>A</td>\n",
       "      <td>B</td>\n",
       "      <td>...</td>\n",
       "      <td>0.0</td>\n",
       "      <td>1.0</td>\n",
       "      <td>0.0</td>\n",
       "      <td>0.0</td>\n",
       "      <td>0.0</td>\n",
       "      <td>0.0</td>\n",
       "      <td>1.0</td>\n",
       "      <td>0.0</td>\n",
       "      <td>0.0</td>\n",
       "      <td>0.0</td>\n",
       "    </tr>\n",
       "    <tr>\n",
       "      <th>5771</th>\n",
       "      <td>19</td>\n",
       "      <td>?</td>\n",
       "      <td>264228</td>\n",
       "      <td>B</td>\n",
       "      <td>10</td>\n",
       "      <td>C</td>\n",
       "      <td>?</td>\n",
       "      <td>B</td>\n",
       "      <td>A</td>\n",
       "      <td>A</td>\n",
       "      <td>...</td>\n",
       "      <td>0.0</td>\n",
       "      <td>0.0</td>\n",
       "      <td>0.0</td>\n",
       "      <td>0.0</td>\n",
       "      <td>0.0</td>\n",
       "      <td>0.0</td>\n",
       "      <td>0.0</td>\n",
       "      <td>0.0</td>\n",
       "      <td>0.0</td>\n",
       "      <td>0.0</td>\n",
       "    </tr>\n",
       "  </tbody>\n",
       "</table>\n",
       "<p>5 rows × 36 columns</p>\n",
       "</div>"
      ],
      "text/plain": [
       "       age workclass  fnlwgt education  education-num marital-status  \\\n",
       "20876   19         ?   48393         B             10              C   \n",
       "17792   38         C  136931         F             12              C   \n",
       "27113   44         C  230684         A             13              A   \n",
       "30243   33         C  178615         F             12              A   \n",
       "5771    19         ?  264228         B             10              C   \n",
       "\n",
       "      occupation relationship race sex  ...  relationship_0  relationship_2  \\\n",
       "20876          ?            B    A   B  ...             0.0             0.0   \n",
       "17792          I            D    B   A  ...             0.0             0.0   \n",
       "27113          E            C    A   B  ...             0.0             1.0   \n",
       "30243          B            C    A   B  ...             0.0             1.0   \n",
       "5771           ?            B    A   A  ...             0.0             0.0   \n",
       "\n",
       "       relationship_3 race_2  race_3  race_4  sex_1  native-country_7  \\\n",
       "20876             0.0    0.0     0.0     0.0    1.0               0.0   \n",
       "17792             1.0    0.0     0.0     0.0    0.0               0.0   \n",
       "27113             0.0    0.0     0.0     0.0    1.0               0.0   \n",
       "30243             0.0    0.0     0.0     0.0    1.0               0.0   \n",
       "5771              0.0    0.0     0.0     0.0    0.0               0.0   \n",
       "\n",
       "       native-country_23  native-country_36  \n",
       "20876                0.0                0.0  \n",
       "17792                0.0                0.0  \n",
       "27113                0.0                0.0  \n",
       "30243                0.0                0.0  \n",
       "5771                 0.0                0.0  \n",
       "\n",
       "[5 rows x 36 columns]"
      ]
     },
     "execution_count": 11,
     "metadata": {},
     "output_type": "execute_result"
    }
   ],
   "source": [
    "DATA_TRAIN.sample(5)"
   ]
  },
  {
   "cell_type": "markdown",
   "metadata": {},
   "source": [
    "<h2> Usuwany oryginalne zmienne </h2>"
   ]
  },
  {
   "cell_type": "code",
   "execution_count": 12,
   "metadata": {},
   "outputs": [
    {
     "name": "stdout",
     "output_type": "stream",
     "text": [
      "['workclass', 'education', 'marital-status', 'occupation', 'relationship', 'race', 'sex', 'native-country']\n"
     ]
    }
   ],
   "source": [
    "print(to_drop)"
   ]
  },
  {
   "cell_type": "code",
   "execution_count": 13,
   "metadata": {},
   "outputs": [],
   "source": [
    "DATA_TRAIN.drop(to_drop, axis=1, inplace=True)"
   ]
  },
  {
   "cell_type": "markdown",
   "metadata": {},
   "source": [
    "<h2> W wyniku naszej procedury otrzymaliśmy 28 zmiennych </h2>"
   ]
  },
  {
   "cell_type": "code",
   "execution_count": 14,
   "metadata": {},
   "outputs": [
    {
     "data": {
      "text/html": [
       "<div>\n",
       "<style scoped>\n",
       "    .dataframe tbody tr th:only-of-type {\n",
       "        vertical-align: middle;\n",
       "    }\n",
       "\n",
       "    .dataframe tbody tr th {\n",
       "        vertical-align: top;\n",
       "    }\n",
       "\n",
       "    .dataframe thead th {\n",
       "        text-align: right;\n",
       "    }\n",
       "</style>\n",
       "<table border=\"1\" class=\"dataframe\">\n",
       "  <thead>\n",
       "    <tr style=\"text-align: right;\">\n",
       "      <th></th>\n",
       "      <th>age</th>\n",
       "      <th>fnlwgt</th>\n",
       "      <th>education-num</th>\n",
       "      <th>capital-gain</th>\n",
       "      <th>capital-loss</th>\n",
       "      <th>hours-per-week</th>\n",
       "      <th>workclass_0</th>\n",
       "      <th>workclass_3</th>\n",
       "      <th>workclass_6</th>\n",
       "      <th>education_0</th>\n",
       "      <th>...</th>\n",
       "      <th>relationship_0</th>\n",
       "      <th>relationship_2</th>\n",
       "      <th>relationship_3</th>\n",
       "      <th>race_2</th>\n",
       "      <th>race_3</th>\n",
       "      <th>race_4</th>\n",
       "      <th>sex_1</th>\n",
       "      <th>native-country_7</th>\n",
       "      <th>native-country_23</th>\n",
       "      <th>native-country_36</th>\n",
       "    </tr>\n",
       "  </thead>\n",
       "  <tbody>\n",
       "    <tr>\n",
       "      <th>3779</th>\n",
       "      <td>31</td>\n",
       "      <td>298995</td>\n",
       "      <td>9</td>\n",
       "      <td>0</td>\n",
       "      <td>0</td>\n",
       "      <td>35</td>\n",
       "      <td>0.0</td>\n",
       "      <td>1.0</td>\n",
       "      <td>0.0</td>\n",
       "      <td>0.0</td>\n",
       "      <td>...</td>\n",
       "      <td>1.0</td>\n",
       "      <td>0.0</td>\n",
       "      <td>0.0</td>\n",
       "      <td>0.0</td>\n",
       "      <td>0.0</td>\n",
       "      <td>1.0</td>\n",
       "      <td>0.0</td>\n",
       "      <td>0.0</td>\n",
       "      <td>0.0</td>\n",
       "      <td>0.0</td>\n",
       "    </tr>\n",
       "    <tr>\n",
       "      <th>4921</th>\n",
       "      <td>90</td>\n",
       "      <td>227796</td>\n",
       "      <td>14</td>\n",
       "      <td>20051</td>\n",
       "      <td>0</td>\n",
       "      <td>60</td>\n",
       "      <td>0.0</td>\n",
       "      <td>0.0</td>\n",
       "      <td>0.0</td>\n",
       "      <td>0.0</td>\n",
       "      <td>...</td>\n",
       "      <td>0.0</td>\n",
       "      <td>1.0</td>\n",
       "      <td>0.0</td>\n",
       "      <td>0.0</td>\n",
       "      <td>0.0</td>\n",
       "      <td>0.0</td>\n",
       "      <td>1.0</td>\n",
       "      <td>0.0</td>\n",
       "      <td>0.0</td>\n",
       "      <td>0.0</td>\n",
       "    </tr>\n",
       "    <tr>\n",
       "      <th>8234</th>\n",
       "      <td>51</td>\n",
       "      <td>120781</td>\n",
       "      <td>15</td>\n",
       "      <td>99999</td>\n",
       "      <td>0</td>\n",
       "      <td>70</td>\n",
       "      <td>0.0</td>\n",
       "      <td>0.0</td>\n",
       "      <td>0.0</td>\n",
       "      <td>0.0</td>\n",
       "      <td>...</td>\n",
       "      <td>0.0</td>\n",
       "      <td>1.0</td>\n",
       "      <td>0.0</td>\n",
       "      <td>0.0</td>\n",
       "      <td>1.0</td>\n",
       "      <td>0.0</td>\n",
       "      <td>1.0</td>\n",
       "      <td>0.0</td>\n",
       "      <td>1.0</td>\n",
       "      <td>0.0</td>\n",
       "    </tr>\n",
       "    <tr>\n",
       "      <th>2446</th>\n",
       "      <td>90</td>\n",
       "      <td>90523</td>\n",
       "      <td>9</td>\n",
       "      <td>0</td>\n",
       "      <td>0</td>\n",
       "      <td>99</td>\n",
       "      <td>0.0</td>\n",
       "      <td>1.0</td>\n",
       "      <td>0.0</td>\n",
       "      <td>0.0</td>\n",
       "      <td>...</td>\n",
       "      <td>0.0</td>\n",
       "      <td>0.0</td>\n",
       "      <td>0.0</td>\n",
       "      <td>0.0</td>\n",
       "      <td>0.0</td>\n",
       "      <td>0.0</td>\n",
       "      <td>1.0</td>\n",
       "      <td>0.0</td>\n",
       "      <td>0.0</td>\n",
       "      <td>0.0</td>\n",
       "    </tr>\n",
       "    <tr>\n",
       "      <th>23234</th>\n",
       "      <td>42</td>\n",
       "      <td>208068</td>\n",
       "      <td>13</td>\n",
       "      <td>7298</td>\n",
       "      <td>0</td>\n",
       "      <td>40</td>\n",
       "      <td>0.0</td>\n",
       "      <td>1.0</td>\n",
       "      <td>0.0</td>\n",
       "      <td>1.0</td>\n",
       "      <td>...</td>\n",
       "      <td>0.0</td>\n",
       "      <td>1.0</td>\n",
       "      <td>0.0</td>\n",
       "      <td>0.0</td>\n",
       "      <td>1.0</td>\n",
       "      <td>0.0</td>\n",
       "      <td>1.0</td>\n",
       "      <td>0.0</td>\n",
       "      <td>0.0</td>\n",
       "      <td>1.0</td>\n",
       "    </tr>\n",
       "  </tbody>\n",
       "</table>\n",
       "<p>5 rows × 28 columns</p>\n",
       "</div>"
      ],
      "text/plain": [
       "       age  fnlwgt  education-num  capital-gain  capital-loss  hours-per-week  \\\n",
       "3779    31  298995              9             0             0              35   \n",
       "4921    90  227796             14         20051             0              60   \n",
       "8234    51  120781             15         99999             0              70   \n",
       "2446    90   90523              9             0             0              99   \n",
       "23234   42  208068             13          7298             0              40   \n",
       "\n",
       "       workclass_0  workclass_3  workclass_6  education_0  ...  \\\n",
       "3779           0.0          1.0          0.0          0.0  ...   \n",
       "4921           0.0          0.0          0.0          0.0  ...   \n",
       "8234           0.0          0.0          0.0          0.0  ...   \n",
       "2446           0.0          1.0          0.0          0.0  ...   \n",
       "23234          0.0          1.0          0.0          1.0  ...   \n",
       "\n",
       "       relationship_0  relationship_2  relationship_3  race_2  race_3  race_4  \\\n",
       "3779              1.0             0.0             0.0     0.0     0.0     1.0   \n",
       "4921              0.0             1.0             0.0     0.0     0.0     0.0   \n",
       "8234              0.0             1.0             0.0     0.0     1.0     0.0   \n",
       "2446              0.0             0.0             0.0     0.0     0.0     0.0   \n",
       "23234             0.0             1.0             0.0     0.0     1.0     0.0   \n",
       "\n",
       "       sex_1  native-country_7  native-country_23  native-country_36  \n",
       "3779     0.0               0.0                0.0                0.0  \n",
       "4921     1.0               0.0                0.0                0.0  \n",
       "8234     1.0               0.0                1.0                0.0  \n",
       "2446     1.0               0.0                0.0                0.0  \n",
       "23234    1.0               0.0                0.0                1.0  \n",
       "\n",
       "[5 rows x 28 columns]"
      ]
     },
     "execution_count": 14,
     "metadata": {},
     "output_type": "execute_result"
    }
   ],
   "source": [
    "DATA_TRAIN.sample(5)"
   ]
  },
  {
   "cell_type": "markdown",
   "metadata": {},
   "source": [
    "<h2> Teraz robimy wykresy dla naszych zmiennych ciągłych </h2>\n",
    "\n",
    "Na osi x znajdują się unikalne wartości naszych zmiennych. Na osi y znajduje się procent obserwacji o zadanej wartości zmiennej celu oraz zmiennej decyzyjnej równej 1."
   ]
  },
  {
   "cell_type": "code",
   "execution_count": 15,
   "metadata": {},
   "outputs": [],
   "source": [
    "def plotsy(x):\n",
    "    my_tab = pd.crosstab(index=x, \n",
    "                         columns=DEC)\n",
    "    my_tab = my_tab[my_tab[0]+my_tab[1]]\n",
    "    plt.plot(my_tab.index,\n",
    "             my_tab[1]/(my_tab[0]))\n",
    "    print (ind)\n",
    "    plt.show()"
   ]
  },
  {
   "cell_type": "code",
   "execution_count": 16,
   "metadata": {},
   "outputs": [
    {
     "data": {
      "image/png": "[encoded data removed]",
      "text/plain": [
       "<Figure size 432x288 with 1 Axes>"
      ]
     },
     "metadata": {
      "needs_background": "light"
     },
     "output_type": "display_data"
    },
    {
     "data": {
      "image/png": "[encoded data removed]",
      "text/plain": [
       "<Figure size 432x288 with 1 Axes>"
      ]
     },
     "metadata": {
      "needs_background": "light"
     },
     "output_type": "display_data"
    },
    {
     "data": {
      "image/png": "[encoded data removed]",
      "text/plain": [
       "<Figure size 432x288 with 1 Axes>"
      ]
     },
     "metadata": {
      "needs_background": "light"
     },
     "output_type": "display_data"
    },
    {
     "data": {
      "image/png": "[encoded data removed]",
      "text/plain": [
       "<Figure size 432x288 with 1 Axes>"
      ]
     },
     "metadata": {
      "needs_background": "light"
     },
     "output_type": "display_data"
    },
    {
     "data": {
      "image/png": "[encoded data removed]",
      "text/plain": [
       "<Figure size 432x288 with 1 Axes>"
      ]
     },
     "metadata": {
      "needs_background": "light"
     },
     "output_type": "display_data"
    },
    {
     "data": {
      "image/png": "[encoded data removed]",
      "text/plain": [
       "<Figure size 432x288 with 1 Axes>"
      ]
     },
     "metadata": {
      "needs_background": "light"
     },
     "output_type": "display_data"
    }
   ],
   "source": [
    "for ind in ['age', 'fnlwgt', 'education-num', 'capital-gain', 'capital-loss','hours-per-week']:\n",
    "    my_tab = pd.crosstab(index= DATA_TRAIN[ind], columns=DEC)\n",
    "    w = (my_tab[0] + my_tab[1])\n",
    "    plt.plot(my_tab.index, \n",
    "             (my_tab[1]/w * 100),\n",
    "             color='green')\n",
    "    plt.title(' '.join(('Percentage of', ind, 'with decision equals to one')))\n",
    "    plt.show()\n"
   ]
  },
  {
   "cell_type": "markdown",
   "metadata": {},
   "source": [
    "<h2> Wykres dla education-num przypomina e^x </h2> <br>\n",
    "Spróbujmy więc zlogarytmować tę zmienną."
   ]
  },
  {
   "cell_type": "code",
   "execution_count": 17,
   "metadata": {},
   "outputs": [],
   "source": [
    "DATA_TRAIN['education-num'] = np.log(DATA_TRAIN['education-num'])"
   ]
  },
  {
   "cell_type": "code",
   "execution_count": 18,
   "metadata": {},
   "outputs": [],
   "source": [
    "DATA_TRAIN = DATA_TRAIN.astype('float64')"
   ]
  },
  {
   "cell_type": "markdown",
   "metadata": {},
   "source": [
    "<h2> Dzielimy dane na zbiór treningowy(90%) i testowy(10%)</h2> <br>\n",
    "Ustawiamy ziarno losowania, aby można było odtworzyć wyniki analizy."
   ]
  },
  {
   "cell_type": "code",
   "execution_count": 19,
   "metadata": {},
   "outputs": [],
   "source": [
    "x_train, x_test, y_train, y_test = train_test_split(DATA_TRAIN, DEC, test_size=0.1, random_state=0)"
   ]
  },
  {
   "cell_type": "markdown",
   "metadata": {},
   "source": [
    "<h2> Normalizujemy nasze zmienne </h2> <br>\n",
    "Jest to przydatne przy wielu modelach takich jak svm,  KNN czy sieć neuronowa. Normalizacje dopasowywujemy najpierw do zbioru treningowego, a potem z gotowym juz parametrami normalizujemy zbiór testowy."
   ]
  },
  {
   "cell_type": "code",
   "execution_count": 20,
   "metadata": {},
   "outputs": [],
   "source": [
    "scaler = StandardScaler()\n",
    "scaler.fit(x_train)\n",
    "x_train = scaler.transform(x_train)\n",
    "x_test = scaler.transform(x_test)"
   ]
  },
  {
   "cell_type": "markdown",
   "metadata": {},
   "source": [
    "<h2> Zaczynając od najprostszych modeli patrzymy jaki wynik da nam KNN </h2> <br>\n",
    "Sprawdzamy dokładność KNN z liczbą sąsiadów pochodzącymi z ciągu Fibonacciego.\n",
    "Wyniki pokazują, że najlepszej liczbu sąsiadów powinniśmy szukać w przedziale 20-50."
   ]
  },
  {
   "cell_type": "code",
   "execution_count": 21,
   "metadata": {},
   "outputs": [
    {
     "data": {
      "text/plain": [
       "dtype('float64')"
      ]
     },
     "execution_count": 21,
     "metadata": {},
     "output_type": "execute_result"
    }
   ],
   "source": [
    "x_test.dtype"
   ]
  },
  {
   "cell_type": "code",
   "execution_count": 22,
   "metadata": {},
   "outputs": [],
   "source": [
    "def best_N():\n",
    "    best_n = 0\n",
    "    i = 1\n",
    "    j = 1\n",
    "    acc_glob = []\n",
    "    num_neigh_glob = []\n",
    "    while i < DATA_TRAIN.shape[0] // 10 and j < DATA_TRAIN.shape[0]  :\n",
    "        kf = KFold(n_splits=10)\n",
    "        acc = []\n",
    "        num_neigh = []\n",
    "        for train, test in kf.split(x_train):\n",
    "            x_fold_train, x_fold_test, y_fold_train, y_fold_test = \\\n",
    "            pd.DataFrame(x_train).iloc[train], pd.DataFrame(x_train).iloc[test], \\\n",
    "            pd.Series(y_train).iloc[train], pd.Series(y_train).iloc[test]\n",
    "            neigh = KNeighborsClassifier(n_neighbors=i, weights = 'distance')\n",
    "            neigh.fit(x_fold_train, y_fold_train)\n",
    "            predictions = neigh.predict(x_fold_test)\n",
    "            b = accuracy_score(y_fold_test, predictions)\n",
    "            acc.append(b)\n",
    "            \n",
    "        print(str(round((sum(acc) / len(acc)) * 100, 4)), '%' ,\\\n",
    "        'accuracy with ' , i , 'neighbours')\n",
    "        num_neigh_glob.append(i)\n",
    "        acc_glob.append((sum(acc) / len(acc)) * 100)\n",
    "        k = i\n",
    "        i = i + j \n",
    "        j = k   \n",
    "    return acc_glob, num_neigh_glob\n"
   ]
  },
  {
   "cell_type": "code",
   "execution_count": 23,
   "metadata": {},
   "outputs": [
    {
     "name": "stdout",
     "output_type": "stream",
     "text": [
      "79.8841 % accuracy with  1 neighbours\n",
      "79.8909 % accuracy with  2 neighbours\n",
      "81.5765 % accuracy with  3 neighbours\n",
      "82.2999 % accuracy with  5 neighbours\n",
      "82.8322 % accuracy with  8 neighbours\n",
      "83.1871 % accuracy with  13 neighbours\n",
      "83.4021 % accuracy with  21 neighbours\n",
      "83.6376 % accuracy with  34 neighbours\n",
      "83.5455 % accuracy with  55 neighbours\n",
      "83.5079 % accuracy with  89 neighbours\n",
      "83.3237 % accuracy with  144 neighbours\n",
      "83.1872 % accuracy with  233 neighbours\n",
      "83.1496 % accuracy with  377 neighbours\n",
      "83.2349 % accuracy with  610 neighbours\n",
      "83.0438 % accuracy with  987 neighbours\n",
      "82.1361 % accuracy with  1597 neighbours\n",
      "80.8736 % accuracy with  2584 neighbours\n"
     ]
    }
   ],
   "source": [
    "acc_glob, num_neigh_glob = best_N()"
   ]
  },
  {
   "cell_type": "code",
   "execution_count": 24,
   "metadata": {},
   "outputs": [
    {
     "data": {
      "image/png": "[encoded data removed]",
      "text/plain": [
       "<Figure size 432x288 with 1 Axes>"
      ]
     },
     "metadata": {
      "needs_background": "light"
     },
     "output_type": "display_data"
    }
   ],
   "source": [
    "plt.bar([0,1,2,3,4,5,6,7,8,9,10,11,12,13, 14,15,16], \n",
    "        acc_glob,\n",
    "        color='green'\n",
    "       )\n",
    "plt.xticks([0,1,2,3,4,5,6,7,8,9,10,11,12,13,14,15,16],\n",
    "           (num_neigh_glob))\n",
    "plt.show()"
   ]
  },
  {
   "cell_type": "markdown",
   "metadata": {},
   "source": [
    "<h2> Trenujemy las losowy</h2> <br>\n",
    "Dopasowujemy parametry za pomocą przeszukiwania po kracie. "
   ]
  },
  {
   "cell_type": "code",
   "execution_count": 25,
   "metadata": {},
   "outputs": [
    {
     "name": "stdout",
     "output_type": "stream",
     "text": [
      "Fitting 5 folds for each of 24 candidates, totalling 120 fits\n"
     ]
    },
    {
     "name": "stderr",
     "output_type": "stream",
     "text": [
      "[Parallel(n_jobs=1)]: Using backend SequentialBackend with 1 concurrent workers.\n",
      "[Parallel(n_jobs=1)]: Done 120 out of 120 | elapsed:  3.4min finished\n"
     ]
    },
    {
     "data": {
      "text/plain": [
       "0.8652133865520417"
      ]
     },
     "execution_count": 25,
     "metadata": {},
     "output_type": "execute_result"
    }
   ],
   "source": [
    "parameters = {\n",
    "    'n_estimators': [10, 50, 100],\n",
    "    'max_features': ['sqrt', 'log2'],\n",
    "    'max_depth': [1, 5, 10, 15]\n",
    "    }\n",
    "rfc = RandomForestClassifier()\n",
    "clf1 = GridSearchCV(rfc, \n",
    "                    parameters,\n",
    "                    verbose=1,\n",
    "                    cv=5)\n",
    "clf1.fit(x_train, y_train)\n",
    "clf1_result = clf1.predict(x_test)\n",
    "clf1_accuracy = accuracy_score(y_test, clf1_result)\n",
    "clf1_accuracy"
   ]
  },
  {
   "cell_type": "markdown",
   "metadata": {},
   "source": [
    "<h2> Trenujemy klasyfikator XGBoost. </h2> <br>\n",
    "Do wyszukania najlepszych parametrów również uzyjemy przeszukiwania po kracie. "
   ]
  },
  {
   "cell_type": "code",
   "execution_count": 26,
   "metadata": {},
   "outputs": [
    {
     "data": {
      "text/plain": [
       "GridSearchCV(cv=2, error_score='raise-deprecating',\n",
       "       estimator=XGBClassifier(base_score=0.5, booster='gbtree', colsample_bylevel=1,\n",
       "       colsample_bytree=1, gamma=0, learning_rate=0.1, max_delta_step=0,\n",
       "       max_depth=3, min_child_weight=1, missing=None, n_estimators=100,\n",
       "       n_jobs=1, nthread=None, objective='binary:logistic', random_state=0,\n",
       "       reg_alpha=0, reg_lambda=1, scale_pos_weight=1, seed=None,\n",
       "       silent=True, subsample=1),\n",
       "       fit_params=None, iid='warn', n_jobs=None,\n",
       "       param_grid={'min_child_weight': [1, 10], 'gamma': [1, 5], 'subsample': [0, 1, 0.6, 1.0], 'colsample_bytree': [0.6, 1.0], 'max_depth': [5, 20, 30], 'random_state': [0]},\n",
       "       pre_dispatch='2*n_jobs', refit=True, return_train_score='warn',\n",
       "       scoring=None, verbose=0)"
      ]
     },
     "execution_count": 26,
     "metadata": {},
     "output_type": "execute_result"
    }
   ],
   "source": [
    "params1 = {\n",
    "        'min_child_weight': [1, 10],\n",
    "        'gamma': [ 1,  5],\n",
    "        'subsample': [0,1 ,0.6, 1.0],\n",
    "        'colsample_bytree': [0.6, 1.0],\n",
    "        'max_depth': [5, 20, 30],\n",
    "        'random_state': [0]\n",
    "        }\n",
    "\n",
    "xgb_clf = xgb.XGBClassifier()\n",
    "clf2 = GridSearchCV(xgb_clf, \n",
    "                    params1,\n",
    "                    cv=2)\n",
    "clf2.fit(x_train, y_train)"
   ]
  },
  {
   "cell_type": "markdown",
   "metadata": {},
   "source": [
    "<h2> Odtwarzamy pipeline na zbiorze testowym <h2>"
   ]
  },
  {
   "cell_type": "code",
   "execution_count": 27,
   "metadata": {},
   "outputs": [
    {
     "data": {
      "text/plain": [
       "{'colsample_bytree': 0.6,\n",
       " 'gamma': 1,\n",
       " 'max_depth': 5,\n",
       " 'min_child_weight': 1,\n",
       " 'random_state': 0,\n",
       " 'subsample': 1}"
      ]
     },
     "execution_count": 27,
     "metadata": {},
     "output_type": "execute_result"
    }
   ],
   "source": [
    "clf2.best_params_"
   ]
  },
  {
   "cell_type": "code",
   "execution_count": 28,
   "metadata": {},
   "outputs": [
    {
     "data": {
      "text/plain": [
       "0.8431071538225361"
      ]
     },
     "execution_count": 28,
     "metadata": {},
     "output_type": "execute_result"
    }
   ],
   "source": [
    "clf_knn = KNeighborsClassifier(n_neighbors=34, weights = 'distance')\n",
    "clf_knn.fit(x_train, y_train)\n",
    "clf_knn_result = clf_knn.predict(x_test)\n",
    "clf_knn_accuracy = accuracy_score(y_test, clf_knn_result)\n",
    "clf_knn_accuracy"
   ]
  },
  {
   "cell_type": "code",
   "execution_count": 29,
   "metadata": {},
   "outputs": [
    {
     "data": {
      "text/plain": [
       "0.8652133865520417"
      ]
     },
     "execution_count": 29,
     "metadata": {},
     "output_type": "execute_result"
    }
   ],
   "source": [
    "clf1_result = clf1.predict(x_test)\n",
    "clf1_accuracy = accuracy_score(y_test, clf1_result)\n",
    "clf1_accuracy"
   ]
  },
  {
   "cell_type": "code",
   "execution_count": 30,
   "metadata": {},
   "outputs": [
    {
     "data": {
      "text/plain": [
       "0.8722750997850783"
      ]
     },
     "execution_count": 30,
     "metadata": {},
     "output_type": "execute_result"
    }
   ],
   "source": [
    "clf2_result = clf2.predict(x_test)\n",
    "clf2_accuracy = accuracy_score(y_test, clf2_result)\n",
    "clf2_accuracy"
   ]
  },
  {
   "cell_type": "markdown",
   "metadata": {},
   "source": [
    "<h2> Dokładność ok. 87% jest najlepsza spośród wszystkich uzyskanych przez nas na danych z tego zadania. </h2> <br>\n",
    "Użyjemy więc XGBoosta z znalezionymi poprzez GridSearch parametrami do przewidzenia naszego zbioru testowego. Odtwarzamy pipeline dla nowych danych i zapisujemy prognozy w postaci pliku tekstowego."
   ]
  },
  {
   "cell_type": "code",
   "execution_count": 31,
   "metadata": {},
   "outputs": [],
   "source": [
    "to_drop1 = []\n",
    "for x in DATA_TEST.columns:\n",
    "    if x not in ['age', 'fnlwgt', 'education-num', 'capital-gain', 'capital-loss','hours-per-week']:\n",
    "        to_drop1.append(x)\n",
    "        DATA_TEST1 = DATA_TEST[x]\n",
    "        le = LabelEncoder()\n",
    "        class_vector = le.fit_transform(DATA_TEST1);\n",
    "        ohe = OneHotEncoder(sparse=False, categories='auto')\n",
    "        one_hot = ohe.fit_transform(class_vector.reshape(len(class_vector), 1));\n",
    "        DATA_TEST1 =  one_hot\n",
    "        a = features_to_save[x]\n",
    "        for i in range(len(a)):\n",
    "            if a[i] != 0:\n",
    "                DATA_TEST[x + '_' + str(i)] = one_hot[:, i]\n"
   ]
  },
  {
   "cell_type": "code",
   "execution_count": 32,
   "metadata": {},
   "outputs": [],
   "source": [
    "DATA_TEST.drop(to_drop1, axis=1, inplace=True)"
   ]
  },
  {
   "cell_type": "code",
   "execution_count": 33,
   "metadata": {},
   "outputs": [
    {
     "data": {
      "text/plain": [
       "(16280, 28)"
      ]
     },
     "execution_count": 33,
     "metadata": {},
     "output_type": "execute_result"
    }
   ],
   "source": [
    "DATA_TEST.shape"
   ]
  },
  {
   "cell_type": "code",
   "execution_count": 34,
   "metadata": {},
   "outputs": [],
   "source": [
    "DATA_TEST = DATA_TEST.astype('float64')\n",
    "DATA_TEST = scaler.transform(DATA_TEST)"
   ]
  },
  {
   "cell_type": "code",
   "execution_count": 35,
   "metadata": {},
   "outputs": [],
   "source": [
    "RESULT = clf2.predict(DATA_TEST)"
   ]
  },
  {
   "cell_type": "code",
   "execution_count": 36,
   "metadata": {},
   "outputs": [],
   "source": [
    "np.savetxt('zadanie2_wyniki.txt', RESULT, delimiter=',') "
   ]
  }
 ],
 "metadata": {
  "kernelspec": {
   "display_name": "Python 3",
   "language": "python",
   "name": "python3"
  },
  "language_info": {
   "codemirror_mode": {
    "name": "ipython",
    "version": 3
   },
   "file_extension": ".py",
   "mimetype": "text/x-python",
   "name": "python",
   "nbconvert_exporter": "python",
   "pygments_lexer": "ipython3",
   "version": "3.7.2"
  }
 },
 "nbformat": 4,
 "nbformat_minor": 2
}
